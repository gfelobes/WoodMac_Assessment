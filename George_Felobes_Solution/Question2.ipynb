{
 "cells": [
  {
   "cell_type": "markdown",
   "metadata": {},
   "source": [
    "# Question 2: \n",
    "\n",
    "George Felobes \n",
    "\n",
    "Data Analyst Position at Wood Mackenzie"
   ]
  },
  {
   "cell_type": "markdown",
   "metadata": {},
   "source": [
    "Import Libraries"
   ]
  },
  {
   "cell_type": "code",
   "execution_count": 131,
   "metadata": {},
   "outputs": [],
   "source": [
    "import pandas as pd\n",
    "import numpy as np \n",
    "import datetime as dt"
   ]
  },
  {
   "cell_type": "markdown",
   "metadata": {},
   "source": [
    "A. takes IP, bi, Di, Dmin and well life as input parameters"
   ]
  },
  {
   "cell_type": "code",
   "execution_count": 132,
   "metadata": {},
   "outputs": [],
   "source": [
    "IP, bi, Di, Dmin, well_life = 160, 1.5, 2.3, 0.1, 25\n"
   ]
  },
  {
   "cell_type": "markdown",
   "metadata": {},
   "source": [
    "1. set the length of data to be well life * 12"
   ]
  },
  {
   "cell_type": "code",
   "execution_count": 134,
   "metadata": {},
   "outputs": [],
   "source": [
    "mop = np.arange(1,12*25 + 1)\n",
    "main_df = pd.DataFrame(mop, index=mop, columns = [\"mop\"])"
   ]
  },
  {
   "cell_type": "markdown",
   "metadata": {},
   "source": [
    "2. apply hyperbolic formula with given parameters to calculate hyperbolic production"
   ]
  },
  {
   "cell_type": "code",
   "execution_count": 135,
   "metadata": {},
   "outputs": [],
   "source": [
    "main_df[\"hyperbolic_prod\"] = main_df[\"mop\"].apply(lambda x: (1 + bi * Di * (x - 1)) ** (-1 / bi))"
   ]
  },
  {
   "cell_type": "markdown",
   "metadata": {},
   "source": [
    "3. calculate hyperbolic decline rate"
   ]
  },
  {
   "cell_type": "code",
   "execution_count": 136,
   "metadata": {},
   "outputs": [],
   "source": [
    "main_df[\"hyperbolic_dec_rate\"] =  main_df[\"hyperbolic_prod\"].pct_change() *-1\n",
    "main_df.loc[1,\"hyperbolic_dec_rate\"] = 1"
   ]
  },
  {
   "cell_type": "markdown",
   "metadata": {},
   "source": [
    "4. apply terminal (minimum) decline (Dmin)"
   ]
  },
  {
   "cell_type": "code",
   "execution_count": 137,
   "metadata": {},
   "outputs": [],
   "source": [
    "D_min = 1 - (1 - Dmin) ** (1/12)\n",
    "main_df[\"dec_rate\"] = main_df['hyperbolic_dec_rate']\n",
    "main_df.loc[main_df['hyperbolic_dec_rate'] < D_min, \"dec_rate\"] = D_min"
   ]
  },
  {
   "cell_type": "markdown",
   "metadata": {},
   "source": [
    "5. calculate forecast production"
   ]
  },
  {
   "cell_type": "code",
   "execution_count": 138,
   "metadata": {},
   "outputs": [],
   "source": [
    "# initialize forecast production initial value \n",
    "main_df.loc[1, 'forecast_prod'] = IP\n",
    "for i in range(2, len(main_df)):\n",
    "   main_df.loc[i, 'forecast_prod'] = main_df.loc[i - 1, 'forecast_prod'] * (1-main_df.loc[i, 'dec_rate'])\n"
   ]
  },
  {
   "cell_type": "markdown",
   "metadata": {},
   "source": [
    "Final Step: Calculate volume"
   ]
  },
  {
   "cell_type": "code",
   "execution_count": 139,
   "metadata": {},
   "outputs": [],
   "source": [
    "# Use start date and datetime package to create a new column\n",
    "main_df[\"date\"] = pd.date_range(dt.datetime(2020,1,1), periods = well_life*12, freq='m')\n",
    "\n",
    "# Use the datetime package to multiple the forecasted production by the number of days in that month \n",
    "main_df[\"volume\"] = main_df[\"forecast_prod\"] * (main_df[\"date\"].dt.daysinmonth)"
   ]
  }
 ],
 "metadata": {
  "kernelspec": {
   "display_name": "Python 3.8.10 64-bit (microsoft store)",
   "language": "python",
   "name": "python3"
  },
  "language_info": {
   "codemirror_mode": {
    "name": "ipython",
    "version": 3
   },
   "file_extension": ".py",
   "mimetype": "text/x-python",
   "name": "python",
   "nbconvert_exporter": "python",
   "pygments_lexer": "ipython3",
   "version": "3.8.10"
  },
  "orig_nbformat": 4,
  "vscode": {
   "interpreter": {
    "hash": "0e5d89d268a4903a3620f363f76406fbbfcd6d7e08f4bea07a85fac655f0c06a"
   }
  }
 },
 "nbformat": 4,
 "nbformat_minor": 2
}
